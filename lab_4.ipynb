{
 "cells": [
  {
   "cell_type": "markdown",
   "id": "3a39f201-0775-4d69-a363-e4c976f9a2ec",
   "metadata": {},
   "source": [
    "# Experiment 3"
   ]
  },
  {
   "cell_type": "code",
   "execution_count": 6,
   "id": "045a2c30-aa84-4cb1-86f1-accad7d99fe8",
   "metadata": {},
   "outputs": [],
   "source": [
    "import numpy as np\n",
    "import matplotlib.pyplot as plt\n",
    "import math"
   ]
  },
  {
   "cell_type": "code",
   "execution_count": 7,
   "id": "7ba1a239-e125-405a-968e-1bf435038725",
   "metadata": {},
   "outputs": [
    {
     "data": {
      "text/plain": [
       "(5,)"
      ]
     },
     "execution_count": 7,
     "metadata": {},
     "output_type": "execute_result"
    }
   ],
   "source": [
    "x_train = np.array([1, 2, 4, 6, 7])\n",
    "y_train = np.array([2, 3, 5, 2, 3])\n",
    "x_train.shape"
   ]
  },
  {
   "cell_type": "code",
   "execution_count": 8,
   "id": "458b7e1f-9ede-4692-a7b7-33d3016d23fa",
   "metadata": {},
   "outputs": [],
   "source": [
    "def compute_cost(x, y, w, b):\n",
    "    m = x.shape[0]\n",
    "    cost = 0\n",
    "    for i in range(m):\n",
    "        f_wb = w*x[i] + b\n",
    "        cost = cost + (f_wb - y[i])**2\n",
    "    total_cost = (1/(2*m))*cost\n",
    "\n",
    "    return total_cost"
   ]
  },
  {
   "cell_type": "code",
   "execution_count": 9,
   "id": "90d2d772-9e03-4dc3-9791-d61ba539b718",
   "metadata": {},
   "outputs": [],
   "source": [
    "def compute_gradient(x, y, w, b):\n",
    "    m = x.shape[0]\n",
    "    dj_dw = 0\n",
    "    dj_db = 0\n",
    "    for i in range(m):\n",
    "        f_wb = w*x[i] + b\n",
    "        dj_dw_i = (f_wb - y[i])*x[i]\n",
    "        dj_db_i = (f_wb - y[i])\n",
    "        dj_dw += dj_dw_i\n",
    "        dj_db += dj_db_i\n",
    "    dj_dw = dj_dw/m\n",
    "    dj_db = dj_db/m       \n",
    "\n",
    "    return dj_dw, dj_db"
   ]
  },
  {
   "cell_type": "code",
   "execution_count": 10,
   "id": "3983bfe0-bf8a-4998-8654-2e33124dd5eb",
   "metadata": {},
   "outputs": [],
   "source": [
    "def gradient_descent(x, y, w_in, b_in, alpha, num_iters, cost_function, gradient_function):\n",
    "    b = b_in\n",
    "    w = w_in\n",
    "\n",
    "    for i in range(num_iters):\n",
    "        dj_dw, dj_db = gradient_function(x, y, w, b)\n",
    "\n",
    "        b = b - alpha * dj_db\n",
    "        w = w - alpha * dj_dw\n",
    "\n",
    "    return w, b"
   ]
  },
  {
   "cell_type": "code",
   "execution_count": 20,
   "id": "e8168291-77e4-468c-8c8b-6479dbb25ea5",
   "metadata": {},
   "outputs": [
    {
     "name": "stdout",
     "output_type": "stream",
     "text": [
      "(w,b) found by gradient descent: (  0.5019,   0.1623)\n",
      "Calculating the cost: 1.4991603768378514\n"
     ]
    }
   ],
   "source": [
    "w_init = 0\n",
    "b_init = 0\n",
    "\n",
    "iterations = 10\n",
    "tmp_alpha = 1.0e-2\n",
    "\n",
    "w_final, b_final = gradient_descent(x_train, y_train, w_init, b_init, tmp_alpha, iterations, compute_cost, compute_gradient)\n",
    "print(f\"(w,b) found by gradient descent: ({w_final:8.4f}, {b_final:8.4f})\")\n",
    "print(f\"Calculating the cost: {compute_cost(x_train, y_train, w_final, b_final)}\")"
   ]
  },
  {
   "cell_type": "code",
   "execution_count": 21,
   "id": "316e8b43-5762-4a57-a6c0-136b341848c8",
   "metadata": {},
   "outputs": [
    {
     "name": "stdout",
     "output_type": "stream",
     "text": [
      "x[0] = 1, w_final = 0.5018709112677034, b = 0.16226206979476226, y = 0.6641329810624657\n",
      "x[1] = 2, w_final = 0.5018709112677034, b = 0.16226206979476226, y = 1.1660038923301692\n",
      "x[2] = 4, w_final = 0.5018709112677034, b = 0.16226206979476226, y = 2.169745714865576\n",
      "x[3] = 6, w_final = 0.5018709112677034, b = 0.16226206979476226, y = 3.173487537400983\n",
      "x[4] = 7, w_final = 0.5018709112677034, b = 0.16226206979476226, y = 3.6753584486686863\n"
     ]
    },
    {
     "data": {
      "text/plain": [
       "[0.6641329810624657,\n",
       " 1.1660038923301692,\n",
       " 2.169745714865576,\n",
       " 3.173487537400983,\n",
       " 3.6753584486686863]"
      ]
     },
     "execution_count": 21,
     "metadata": {},
     "output_type": "execute_result"
    }
   ],
   "source": [
    "def final_y(x, w_final, b):\n",
    "    y_pred = []\n",
    "    for i in range(x.shape[0]):\n",
    "        y = w_final * x[i] + b\n",
    "        print(f\"x[{i}] = {x[i]}, w_final = {w_final}, b = {b}, y = {y}\") \n",
    "        y_pred.append(y)\n",
    "    return y_pred\n",
    "y_pred = final_y(x_train, w_final, b_final)\n",
    "y_pred"
   ]
  },
  {
   "cell_type": "code",
   "execution_count": 22,
   "id": "e7777f64-a570-40e5-9ff3-9a3983b77041",
   "metadata": {},
   "outputs": [
    {
     "data": {
      "image/png": "[encoded data removed]",
      "text/plain": [
       "<Figure size 640x480 with 1 Axes>"
      ]
     },
     "metadata": {},
     "output_type": "display_data"
    }
   ],
   "source": [
    "plt.scatter(x_train, y_train, color = 'r', label = 'Actual Data')\n",
    "plt.xlabel(\"X train\")\n",
    "plt.ylabel(\"Y train\")\n",
    "plt.title(\"visualization\")\n",
    "plt.plot(x_train, y_pred, color = 'blue', label = 'Predicted Line')\n",
    "plt.legend()\n",
    "plt.show()"
   ]
  },
  {
   "cell_type": "code",
   "execution_count": null,
   "id": "42662b03-951f-4142-9fc8-c8526e502dd8",
   "metadata": {},
   "outputs": [],
   "source": []
  }
 ],
 "metadata": {
  "kernelspec": {
   "display_name": "Python 3.10",
   "language": "python",
   "name": "python310"
  },
  "language_info": {
   "codemirror_mode": {
    "name": "ipython",
    "version": 3
   },
   "file_extension": ".py",
   "mimetype": "text/x-python",
   "name": "python",
   "nbconvert_exporter": "python",
   "pygments_lexer": "ipython3",
   "version": "3.10.11"
  }
 },
 "nbformat": 4,
 "nbformat_minor": 5
}
