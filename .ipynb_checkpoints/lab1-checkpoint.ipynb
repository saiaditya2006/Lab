{
 "cells": [
  {
   "cell_type": "code",
   "execution_count": 5,
   "metadata": {},
   "outputs": [
    {
     "name": "stdout",
     "output_type": "stream",
     "text": [
      "The solution of x = 2.142857142857143, y = 0.5714285714285714\n",
      "The solution of x = 2.142857142857143, y = 0.5714285714285714\n"
     ]
    }
   ],
   "source": [
    "\n",
    "\n",
    "A = np.array([[2,3], [-4, 1]])\n",
    "B = np.array([6, -8])\n",
    "\n",
    "A_inv = np.linalg.inv(A)\n",
    "solution = np.dot(A_inv, B)\n",
    "x, y =  solution\n",
    "\n",
    "print(f\"The solution of x = {x}, y = {y}\")\n",
    "\n",
    "# or\n",
    "solution1 = np.linalg.solve(A, B)\n",
    "x1, y1 = solution1\n",
    "print(f'The solution of x = {x1}, y = {y1}')"
   ]
  },
  {
   "cell_type": "code",
   "execution_count": null,
   "metadata": {},
   "outputs": [],
   "source": []
  },
  {
   "cell_type": "code",
   "execution_count": null,
   "metadata": {},
   "outputs": [],
   "source": []
  }
 ],
 "metadata": {
  "kernelspec": {
   "display_name": "Python 3",
   "language": "python",
   "name": "python3"
  },
  "language_info": {
   "codemirror_mode": {
    "name": "ipython",
    "version": 3
   },
   "file_extension": ".py",
   "mimetype": "text/x-python",
   "name": "python",
   "nbconvert_exporter": "python",
   "pygments_lexer": "ipython3",
   "version": "3.11.4"
  }
 },
 "nbformat": 4,
 "nbformat_minor": 2
}
